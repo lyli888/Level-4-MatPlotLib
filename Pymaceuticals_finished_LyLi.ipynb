{
 "cells": [
  {
   "cell_type": "markdown",
   "metadata": {},
   "source": [
    "## Observations and Insights "
   ]
  },
  {
   "cell_type": "markdown",
   "metadata": {},
   "source": []
  },
  {
   "cell_type": "code",
   "execution_count": 2,
   "metadata": {},
   "outputs": [],
   "source": [
    "#Dependencies and Setup\n",
    "\n",
    "from IPython.display import display, HTML\n",
    "from scipy import stats\n",
    "import matplotlib.pyplot as plt\n",
    "import pandas as pd\n",
    "import numpy as np"
   ]
  },
  {
   "cell_type": "code",
   "execution_count": 3,
   "metadata": {},
   "outputs": [],
   "source": [
    "#Paths\n",
    "\n",
    "mouse_metadata_path = \"data/Mouse_metadata.csv\"\n",
    "study_results_path = \"data/Study_results.csv\"\n",
    "\n"
   ]
  },
  {
   "cell_type": "code",
   "execution_count": 4,
   "metadata": {},
   "outputs": [
    {
     "name": "stdout",
     "output_type": "stream",
     "text": [
      "Conclusions: \n",
      "\n",
      "\n",
      "\n",
      "1. Capomulin is overall a very effective drug regimen-looking at average tumor volume across all mice across the timepoints (2nd to last graph), there is a clear, consistent, and sharp reduction in tumor volume over time.\n",
      "\n",
      "\n",
      "2. This study's subjects are about 50:50 male:female mice, which is good experimental design to make sure gender does not have an undue effect on the outcome of the data.\n",
      "\n",
      "\n",
      "3. The boxplot (3rd from the bottom) also proves the effectiveness of Capomulin, as well as Ramicane-the 2 most effective treatments that have the lowest average final tumor volume across all mice.\n",
      "\n",
      "\n"
     ]
    }
   ],
   "source": [
    "#Conclusions\n",
    "\n",
    "f = open(\"output/Summary.txt\", \"a\")\n",
    "\n",
    "\n",
    "f.write(\"Conclusions: \\n\")\n",
    "f.write(\"\\n\")\n",
    "f.write(\"1. Capomulin is overall a very effective drug regimen-looking at average tumor volume across all mice across the timepoints (2nd to last graph), there is a clear, consistent, and sharp reduction in tumor volume over time.\")\n",
    "f.write(\"\\n\")\n",
    "f.write(\"2. This study's subjects are about 50:50 male:female mice, which is good experimental design to make sure gender does not have an undue effect on the outcome of the data.\")\n",
    "f.write(\"\\n\")\n",
    "f.write(\"3. The boxplot (3rd from the bottom) also proves the effectiveness of Capomulin, as well as Ramicane-the 2 most effective treatments that have the lowest average final tumor volume across all mice.\")\n",
    "f.write(\"\\n\")\n",
    "f.close()\n",
    "\n",
    "print(\"Conclusions: \\n\")\n",
    "print(\"\\n\")\n",
    "print(\"1. Capomulin is overall a very effective drug regimen-looking at average tumor volume across all mice across the timepoints (2nd to last graph), there is a clear, consistent, and sharp reduction in tumor volume over time.\")\n",
    "print(\"\\n\")\n",
    "print(\"2. This study's subjects are about 50:50 male:female mice, which is good experimental design to make sure gender does not have an undue effect on the outcome of the data.\")\n",
    "print(\"\\n\")\n",
    "print(\"3. The boxplot (3rd from the bottom) also proves the effectiveness of Capomulin, as well as Ramicane-the 2 most effective treatments that have the lowest average final tumor volume across all mice.\")\n",
    "print(\"\\n\")"
   ]
  },
  {
   "cell_type": "code",
   "execution_count": 5,
   "metadata": {},
   "outputs": [],
   "source": [
    "#Read the mouse data and the study results\n",
    "\n",
    "mouse_metadata = pd.read_csv(mouse_metadata_path)\n",
    "study_results = pd.read_csv(study_results_path)"
   ]
  },
  {
   "cell_type": "code",
   "execution_count": 6,
   "metadata": {},
   "outputs": [],
   "source": [
    "# Combine the data into a single Master Dataframe \n",
    "\n",
    "df = pd.merge(mouse_metadata, study_results, on=\"Mouse ID\")\n"
   ]
  },
  {
   "cell_type": "code",
   "execution_count": 7,
   "metadata": {},
   "outputs": [
    {
     "data": {
      "text/html": [
       "<div>\n",
       "<style scoped>\n",
       "    .dataframe tbody tr th:only-of-type {\n",
       "        vertical-align: middle;\n",
       "    }\n",
       "\n",
       "    .dataframe tbody tr th {\n",
       "        vertical-align: top;\n",
       "    }\n",
       "\n",
       "    .dataframe thead th {\n",
       "        text-align: right;\n",
       "    }\n",
       "</style>\n",
       "<table border=\"1\" class=\"dataframe\">\n",
       "  <thead>\n",
       "    <tr style=\"text-align: right;\">\n",
       "      <th></th>\n",
       "      <th>Mouse ID</th>\n",
       "      <th>Drug Regimen</th>\n",
       "      <th>Sex</th>\n",
       "      <th>Age_months</th>\n",
       "      <th>Weight (g)</th>\n",
       "      <th>Timepoint</th>\n",
       "      <th>Tumor Volume (mm3)</th>\n",
       "      <th>Metastatic Sites</th>\n",
       "    </tr>\n",
       "  </thead>\n",
       "  <tbody>\n",
       "    <tr>\n",
       "      <th>0</th>\n",
       "      <td>k403</td>\n",
       "      <td>Ramicane</td>\n",
       "      <td>Male</td>\n",
       "      <td>21</td>\n",
       "      <td>16</td>\n",
       "      <td>0</td>\n",
       "      <td>45.000000</td>\n",
       "      <td>0</td>\n",
       "    </tr>\n",
       "    <tr>\n",
       "      <th>1</th>\n",
       "      <td>k403</td>\n",
       "      <td>Ramicane</td>\n",
       "      <td>Male</td>\n",
       "      <td>21</td>\n",
       "      <td>16</td>\n",
       "      <td>5</td>\n",
       "      <td>38.825898</td>\n",
       "      <td>0</td>\n",
       "    </tr>\n",
       "    <tr>\n",
       "      <th>2</th>\n",
       "      <td>k403</td>\n",
       "      <td>Ramicane</td>\n",
       "      <td>Male</td>\n",
       "      <td>21</td>\n",
       "      <td>16</td>\n",
       "      <td>10</td>\n",
       "      <td>35.014271</td>\n",
       "      <td>1</td>\n",
       "    </tr>\n",
       "    <tr>\n",
       "      <th>3</th>\n",
       "      <td>k403</td>\n",
       "      <td>Ramicane</td>\n",
       "      <td>Male</td>\n",
       "      <td>21</td>\n",
       "      <td>16</td>\n",
       "      <td>15</td>\n",
       "      <td>34.223992</td>\n",
       "      <td>1</td>\n",
       "    </tr>\n",
       "    <tr>\n",
       "      <th>4</th>\n",
       "      <td>k403</td>\n",
       "      <td>Ramicane</td>\n",
       "      <td>Male</td>\n",
       "      <td>21</td>\n",
       "      <td>16</td>\n",
       "      <td>20</td>\n",
       "      <td>32.997729</td>\n",
       "      <td>1</td>\n",
       "    </tr>\n",
       "    <tr>\n",
       "      <th>...</th>\n",
       "      <td>...</td>\n",
       "      <td>...</td>\n",
       "      <td>...</td>\n",
       "      <td>...</td>\n",
       "      <td>...</td>\n",
       "      <td>...</td>\n",
       "      <td>...</td>\n",
       "      <td>...</td>\n",
       "    </tr>\n",
       "    <tr>\n",
       "      <th>1888</th>\n",
       "      <td>z969</td>\n",
       "      <td>Naftisol</td>\n",
       "      <td>Male</td>\n",
       "      <td>9</td>\n",
       "      <td>30</td>\n",
       "      <td>25</td>\n",
       "      <td>63.145652</td>\n",
       "      <td>2</td>\n",
       "    </tr>\n",
       "    <tr>\n",
       "      <th>1889</th>\n",
       "      <td>z969</td>\n",
       "      <td>Naftisol</td>\n",
       "      <td>Male</td>\n",
       "      <td>9</td>\n",
       "      <td>30</td>\n",
       "      <td>30</td>\n",
       "      <td>65.841013</td>\n",
       "      <td>3</td>\n",
       "    </tr>\n",
       "    <tr>\n",
       "      <th>1890</th>\n",
       "      <td>z969</td>\n",
       "      <td>Naftisol</td>\n",
       "      <td>Male</td>\n",
       "      <td>9</td>\n",
       "      <td>30</td>\n",
       "      <td>35</td>\n",
       "      <td>69.176246</td>\n",
       "      <td>4</td>\n",
       "    </tr>\n",
       "    <tr>\n",
       "      <th>1891</th>\n",
       "      <td>z969</td>\n",
       "      <td>Naftisol</td>\n",
       "      <td>Male</td>\n",
       "      <td>9</td>\n",
       "      <td>30</td>\n",
       "      <td>40</td>\n",
       "      <td>70.314904</td>\n",
       "      <td>4</td>\n",
       "    </tr>\n",
       "    <tr>\n",
       "      <th>1892</th>\n",
       "      <td>z969</td>\n",
       "      <td>Naftisol</td>\n",
       "      <td>Male</td>\n",
       "      <td>9</td>\n",
       "      <td>30</td>\n",
       "      <td>45</td>\n",
       "      <td>73.867845</td>\n",
       "      <td>4</td>\n",
       "    </tr>\n",
       "  </tbody>\n",
       "</table>\n",
       "<p>1893 rows × 8 columns</p>\n",
       "</div>"
      ],
      "text/plain": [
       "     Mouse ID Drug Regimen   Sex  Age_months  Weight (g)  Timepoint  \\\n",
       "0        k403     Ramicane  Male          21          16          0   \n",
       "1        k403     Ramicane  Male          21          16          5   \n",
       "2        k403     Ramicane  Male          21          16         10   \n",
       "3        k403     Ramicane  Male          21          16         15   \n",
       "4        k403     Ramicane  Male          21          16         20   \n",
       "...       ...          ...   ...         ...         ...        ...   \n",
       "1888     z969     Naftisol  Male           9          30         25   \n",
       "1889     z969     Naftisol  Male           9          30         30   \n",
       "1890     z969     Naftisol  Male           9          30         35   \n",
       "1891     z969     Naftisol  Male           9          30         40   \n",
       "1892     z969     Naftisol  Male           9          30         45   \n",
       "\n",
       "      Tumor Volume (mm3)  Metastatic Sites  \n",
       "0              45.000000                 0  \n",
       "1              38.825898                 0  \n",
       "2              35.014271                 1  \n",
       "3              34.223992                 1  \n",
       "4              32.997729                 1  \n",
       "...                  ...               ...  \n",
       "1888           63.145652                 2  \n",
       "1889           65.841013                 3  \n",
       "1890           69.176246                 4  \n",
       "1891           70.314904                 4  \n",
       "1892           73.867845                 4  \n",
       "\n",
       "[1893 rows x 8 columns]"
      ]
     },
     "metadata": {},
     "output_type": "display_data"
    }
   ],
   "source": [
    "# Display the Master dataframe table for preview\n",
    "\n",
    "display(df)\n"
   ]
  },
  {
   "cell_type": "code",
   "execution_count": 8,
   "metadata": {},
   "outputs": [
    {
     "data": {
      "text/plain": [
       "'Total Mice: 249'"
      ]
     },
     "metadata": {},
     "output_type": "display_data"
    }
   ],
   "source": [
    "# Checking the number of mice.\n",
    "\n",
    "mouse_ids = df[\"Mouse ID\"]\n",
    "mouse_unique = mouse_ids.drop_duplicates()\n",
    "\n",
    "totalmice = len(mouse_unique)\n",
    "\n",
    "display(\"Total Mice: \" + str(totalmice))"
   ]
  },
  {
   "cell_type": "code",
   "execution_count": 9,
   "metadata": {},
   "outputs": [],
   "source": [
    "#Find Mice With Duplicate Timepoints\n",
    "\n",
    "#Create Dataframe 2 indexed by Mouse ID\n",
    "df2 = df.set_index(\"Mouse ID\")\n",
    "\n",
    "#Count Timepoints Per Mouse\n",
    "timepoints = df2.groupby(level=0)[\"Timepoint\"].count()\n",
    "\n",
    "#Count Unique Timepoints Per Mouse\n",
    "timeunique = df2.groupby(level=0)[\"Timepoint\"].nunique()\n",
    "\n",
    "#Compare 2 Timepoint Lists\n",
    "mousedelete = (timepoints != timeunique)\n",
    "\n",
    "#Find Mice to Delete\n",
    "mousedelete = mousedelete[mousedelete]\n",
    "mousedelete = mousedelete.index.tolist()\n"
   ]
  },
  {
   "cell_type": "code",
   "execution_count": 10,
   "metadata": {},
   "outputs": [
    {
     "name": "stdout",
     "output_type": "stream",
     "text": [
      "Delete Mouse: ['g989']\n"
     ]
    }
   ],
   "source": [
    "print(\"Delete Mouse: \" + str(mousedelete))"
   ]
  },
  {
   "cell_type": "code",
   "execution_count": 11,
   "metadata": {},
   "outputs": [],
   "source": [
    "# Create a clean DataFrame 3 by dropping the duplicate mouse by its ID.\n",
    "\n",
    "df3 = df2.drop(mousedelete)\n",
    "df6 = df3.copy()"
   ]
  },
  {
   "cell_type": "code",
   "execution_count": 12,
   "metadata": {},
   "outputs": [
    {
     "data": {
      "text/plain": [
       "'Cleaned Mice: 248'"
      ]
     },
     "metadata": {},
     "output_type": "display_data"
    }
   ],
   "source": [
    "# Checking the number of mice in the clean DataFrame.\n",
    "\n",
    "cleaned_ids = df3.groupby(level=0)\n",
    "display(\"Cleaned Mice: \" + str(len(cleaned_ids)))"
   ]
  },
  {
   "cell_type": "markdown",
   "metadata": {},
   "source": [
    "## Summary Statistics"
   ]
  },
  {
   "cell_type": "code",
   "execution_count": 13,
   "metadata": {},
   "outputs": [
    {
     "data": {
      "text/html": [
       "<div>\n",
       "<style scoped>\n",
       "    .dataframe tbody tr th:only-of-type {\n",
       "        vertical-align: middle;\n",
       "    }\n",
       "\n",
       "    .dataframe tbody tr th {\n",
       "        vertical-align: top;\n",
       "    }\n",
       "\n",
       "    .dataframe thead th {\n",
       "        text-align: right;\n",
       "    }\n",
       "</style>\n",
       "<table border=\"1\" class=\"dataframe\">\n",
       "  <thead>\n",
       "    <tr style=\"text-align: right;\">\n",
       "      <th></th>\n",
       "      <th>Capomulin</th>\n",
       "      <th>Ceftamin</th>\n",
       "      <th>Infubinol</th>\n",
       "      <th>Ketapril</th>\n",
       "      <th>Naftisol</th>\n",
       "      <th>Placebo</th>\n",
       "      <th>Propriva</th>\n",
       "      <th>Ramicane</th>\n",
       "      <th>Stelasyn</th>\n",
       "      <th>Zoniferol</th>\n",
       "    </tr>\n",
       "  </thead>\n",
       "  <tbody>\n",
       "    <tr>\n",
       "      <th>Tumor Mean (mm3)</th>\n",
       "      <td>40.675741</td>\n",
       "      <td>52.591172</td>\n",
       "      <td>52.884795</td>\n",
       "      <td>55.235638</td>\n",
       "      <td>54.331565</td>\n",
       "      <td>54.033581</td>\n",
       "      <td>52.320930</td>\n",
       "      <td>40.216745</td>\n",
       "      <td>54.233149</td>\n",
       "      <td>53.236507</td>\n",
       "    </tr>\n",
       "    <tr>\n",
       "      <th>Tumor Median (mm3)</th>\n",
       "      <td>41.557809</td>\n",
       "      <td>51.776157</td>\n",
       "      <td>51.820584</td>\n",
       "      <td>53.698743</td>\n",
       "      <td>52.509285</td>\n",
       "      <td>52.288934</td>\n",
       "      <td>50.446266</td>\n",
       "      <td>40.673236</td>\n",
       "      <td>52.431737</td>\n",
       "      <td>51.818479</td>\n",
       "    </tr>\n",
       "    <tr>\n",
       "      <th>Tumor Variance</th>\n",
       "      <td>24.947764</td>\n",
       "      <td>39.290177</td>\n",
       "      <td>43.128684</td>\n",
       "      <td>68.553577</td>\n",
       "      <td>66.173479</td>\n",
       "      <td>61.168083</td>\n",
       "      <td>43.852013</td>\n",
       "      <td>23.486704</td>\n",
       "      <td>59.450562</td>\n",
       "      <td>48.533355</td>\n",
       "    </tr>\n",
       "    <tr>\n",
       "      <th>Tumor Std Dev</th>\n",
       "      <td>4.994774</td>\n",
       "      <td>6.268188</td>\n",
       "      <td>6.567243</td>\n",
       "      <td>8.279709</td>\n",
       "      <td>8.134708</td>\n",
       "      <td>7.821003</td>\n",
       "      <td>6.622085</td>\n",
       "      <td>4.846308</td>\n",
       "      <td>7.710419</td>\n",
       "      <td>6.966589</td>\n",
       "    </tr>\n",
       "    <tr>\n",
       "      <th>Tumor SEM</th>\n",
       "      <td>0.329346</td>\n",
       "      <td>0.469821</td>\n",
       "      <td>0.492236</td>\n",
       "      <td>0.603860</td>\n",
       "      <td>0.596466</td>\n",
       "      <td>0.581331</td>\n",
       "      <td>0.544332</td>\n",
       "      <td>0.320955</td>\n",
       "      <td>0.573111</td>\n",
       "      <td>0.516398</td>\n",
       "    </tr>\n",
       "  </tbody>\n",
       "</table>\n",
       "</div>"
      ],
      "text/plain": [
       "                    Capomulin   Ceftamin  Infubinol   Ketapril   Naftisol  \\\n",
       "Tumor Mean (mm3)    40.675741  52.591172  52.884795  55.235638  54.331565   \n",
       "Tumor Median (mm3)  41.557809  51.776157  51.820584  53.698743  52.509285   \n",
       "Tumor Variance      24.947764  39.290177  43.128684  68.553577  66.173479   \n",
       "Tumor Std Dev        4.994774   6.268188   6.567243   8.279709   8.134708   \n",
       "Tumor SEM            0.329346   0.469821   0.492236   0.603860   0.596466   \n",
       "\n",
       "                      Placebo   Propriva   Ramicane   Stelasyn  Zoniferol  \n",
       "Tumor Mean (mm3)    54.033581  52.320930  40.216745  54.233149  53.236507  \n",
       "Tumor Median (mm3)  52.288934  50.446266  40.673236  52.431737  51.818479  \n",
       "Tumor Variance      61.168083  43.852013  23.486704  59.450562  48.533355  \n",
       "Tumor Std Dev        7.821003   6.622085   4.846308   7.710419   6.966589  \n",
       "Tumor SEM            0.581331   0.544332   0.320955   0.573111   0.516398  "
      ]
     },
     "metadata": {},
     "output_type": "display_data"
    }
   ],
   "source": [
    "# Use groupby and summary statistical methods to calculate the following properties of each drug regimen: \n",
    "# mean, median, variance, standard deviation, and SEM of the tumor volume. \n",
    "# Assemble the resulting series into a single summary dataframe.\n",
    "\n",
    "df4 = df3.reset_index()\n",
    "df4 = df4.set_index(\"Drug Regimen\")\n",
    "tumorseries = df4['Tumor Volume (mm3)']\n",
    "tumormean = tumorseries.groupby(level=0).mean()\n",
    "tumormed = tumorseries.groupby(level=0).median()\n",
    "tumorvar = tumorseries.groupby(level=0).var()\n",
    "tumorstd = tumorseries.groupby(level=0).std()\n",
    "tumorsem = tumorseries.groupby(level=0).sem()\n",
    "drugarray = tumormean.index.tolist()\n",
    "sumdata = [tumormean, tumormed, tumorvar, tumorstd, tumorsem]\n",
    "sumdf = pd.DataFrame(sumdata, columns = drugarray, index = ['Tumor Mean (mm3)','Tumor Median (mm3)', 'Tumor Variance', 'Tumor Std Dev', 'Tumor SEM' ])\n",
    "\n",
    "display(sumdf)"
   ]
  },
  {
   "cell_type": "code",
   "execution_count": 14,
   "metadata": {
    "scrolled": true
   },
   "outputs": [
    {
     "data": {
      "text/html": [
       "<div>\n",
       "<style scoped>\n",
       "    .dataframe tbody tr th:only-of-type {\n",
       "        vertical-align: middle;\n",
       "    }\n",
       "\n",
       "    .dataframe tbody tr th {\n",
       "        vertical-align: top;\n",
       "    }\n",
       "\n",
       "    .dataframe thead th {\n",
       "        text-align: right;\n",
       "    }\n",
       "</style>\n",
       "<table border=\"1\" class=\"dataframe\">\n",
       "  <thead>\n",
       "    <tr style=\"text-align: right;\">\n",
       "      <th></th>\n",
       "      <th>All Drug Regimens</th>\n",
       "    </tr>\n",
       "  </thead>\n",
       "  <tbody>\n",
       "    <tr>\n",
       "      <th>Tumor Mean (mm3)</th>\n",
       "      <td>50.975982</td>\n",
       "    </tr>\n",
       "    <tr>\n",
       "      <th>Tumor Median (mm3)</th>\n",
       "      <td>49.902123</td>\n",
       "    </tr>\n",
       "    <tr>\n",
       "      <th>Tumor Variance</th>\n",
       "      <td>47.858440</td>\n",
       "    </tr>\n",
       "    <tr>\n",
       "      <th>Tumor Std Dev</th>\n",
       "      <td>6.821103</td>\n",
       "    </tr>\n",
       "    <tr>\n",
       "      <th>Tumor SEM</th>\n",
       "      <td>0.502785</td>\n",
       "    </tr>\n",
       "  </tbody>\n",
       "</table>\n",
       "</div>"
      ],
      "text/plain": [
       "                    All Drug Regimens\n",
       "Tumor Mean (mm3)            50.975982\n",
       "Tumor Median (mm3)          49.902123\n",
       "Tumor Variance              47.858440\n",
       "Tumor Std Dev                6.821103\n",
       "Tumor SEM                    0.502785"
      ]
     },
     "metadata": {},
     "output_type": "display_data"
    }
   ],
   "source": [
    "# Using the aggregation method, produce the same summary statistics in a single column\n",
    "sumagg = sumdf.agg('mean', axis='columns')\n",
    "\n",
    "sumdf2 = pd.DataFrame(sumagg, columns = [\"All Drug Regimens\"], index = ['Tumor Mean (mm3)','Tumor Median (mm3)', 'Tumor Variance', 'Tumor Std Dev', 'Tumor SEM' ])\n",
    "\n",
    "display(sumdf2)"
   ]
  },
  {
   "cell_type": "markdown",
   "metadata": {},
   "source": [
    "## Bar and Pie Charts"
   ]
  },
  {
   "cell_type": "code",
   "execution_count": 15,
   "metadata": {},
   "outputs": [
    {
     "data": {
      "image/png": "[encoded data removed]",
      "text/plain": [
       "<Figure size 432x288 with 1 Axes>"
      ]
     },
     "metadata": {
      "needs_background": "light"
     },
     "output_type": "display_data"
    }
   ],
   "source": [
    "# Generate a bar plot showing the total number of measurements taken on each drug regimen using pandas.\n",
    "\n",
    "drugpd = tumorseries.groupby(level=0).count()\n",
    "barpanda = pd.DataFrame ({'Drug Regimen': drugarray, 'No. Measurements': drugpd})\n",
    "ax = barpanda.plot.bar(x='Drug Regimen', y='No. Measurements', rot=30)"
   ]
  },
  {
   "cell_type": "code",
   "execution_count": 16,
   "metadata": {},
   "outputs": [
    {
     "data": {
      "image/png": "[encoded data removed]",
      "text/plain": [
       "<Figure size 720x216 with 1 Axes>"
      ]
     },
     "metadata": {
      "needs_background": "light"
     },
     "output_type": "display_data"
    }
   ],
   "source": [
    "# Generate a bar plot showing the total number of measurements taken on each drug regimen using pyplot.\n",
    "\n",
    "fig = plt.figure(figsize=(10,3))\n",
    "pyplot1 = fig.add_axes([0,0,1,1])\n",
    "pyplot1.bar(drugarray , drugpd)\n",
    "pyplot1.set_ylabel('No. Measurements')\n",
    "pyplot1.set_title('Measurements By Drug')\n",
    "\n",
    "plt.show()"
   ]
  },
  {
   "cell_type": "code",
   "execution_count": 27,
   "metadata": {},
   "outputs": [
    {
     "data": {
      "image/png": "[encoded data removed]",
      "text/plain": [
       "<Figure size 720x720 with 1 Axes>"
      ]
     },
     "metadata": {},
     "output_type": "display_data"
    }
   ],
   "source": [
    "# Generate a pie plot showing the distribution of female versus male mice using pandas\n",
    "\n",
    "df5 = df4.set_index(\"Sex\")\n",
    "\n",
    "genderseries = df5[\"Mouse ID\"]\n",
    "genderseries = genderseries.drop_duplicates()\n",
    "genderseries = genderseries.groupby(level=0).count()\n",
    "\n",
    "\n",
    "\n",
    "dfgender = pd.DataFrame({\"Mice\":[genderseries[0], genderseries[1]]},\n",
    "                  index=['Female', 'Male'])\n",
    "\n",
    "plot = dfgender.plot.pie(y=\"Mice\", autopct=\"%1.2f%%\", figsize=(10,10))\n"
   ]
  },
  {
   "cell_type": "code",
   "execution_count": 18,
   "metadata": {},
   "outputs": [
    {
     "data": {
      "image/png": "[encoded data removed]",
      "text/plain": [
       "<Figure size 720x720 with 1 Axes>"
      ]
     },
     "metadata": {},
     "output_type": "display_data"
    }
   ],
   "source": [
    "# Generate a pie plot showing the distribution of female versus male mice using pyplot\n",
    "labels = 'Female', 'Male'\n",
    "sizes = [genderseries[0]/len(cleaned_ids), genderseries[1]/len(cleaned_ids)]\n",
    "\n",
    "fig1, ax1 = plt.subplots(figsize=(10,10))\n",
    "\n",
    "ax1.pie(sizes, labels=labels, autopct='%1.1f%%',\n",
    "        shadow=True, startangle=90)\n",
    "ax1.axis('equal')  \n",
    "plt.title(\"Mice By Gender\")\n",
    "plt.show()\n"
   ]
  },
  {
   "cell_type": "markdown",
   "metadata": {},
   "source": [
    "## Quartiles, Outliers and Boxplots"
   ]
  },
  {
   "cell_type": "code",
   "execution_count": 19,
   "metadata": {
    "scrolled": false
   },
   "outputs": [
    {
     "data": {
      "text/html": [
       "<div>\n",
       "<style scoped>\n",
       "    .dataframe tbody tr th:only-of-type {\n",
       "        vertical-align: middle;\n",
       "    }\n",
       "\n",
       "    .dataframe tbody tr th {\n",
       "        vertical-align: top;\n",
       "    }\n",
       "\n",
       "    .dataframe thead th {\n",
       "        text-align: right;\n",
       "    }\n",
       "</style>\n",
       "<table border=\"1\" class=\"dataframe\">\n",
       "  <thead>\n",
       "    <tr style=\"text-align: right;\">\n",
       "      <th></th>\n",
       "      <th>Mouse ID</th>\n",
       "      <th>Tumor Volume (mm3)</th>\n",
       "      <th>Timepoint</th>\n",
       "    </tr>\n",
       "    <tr>\n",
       "      <th>Drug Regimen</th>\n",
       "      <th></th>\n",
       "      <th></th>\n",
       "      <th></th>\n",
       "    </tr>\n",
       "  </thead>\n",
       "  <tbody>\n",
       "    <tr>\n",
       "      <th>Capomulin</th>\n",
       "      <td>b128</td>\n",
       "      <td>38.982878</td>\n",
       "      <td>45</td>\n",
       "    </tr>\n",
       "    <tr>\n",
       "      <th>Capomulin</th>\n",
       "      <td>b742</td>\n",
       "      <td>38.939633</td>\n",
       "      <td>45</td>\n",
       "    </tr>\n",
       "    <tr>\n",
       "      <th>Capomulin</th>\n",
       "      <td>f966</td>\n",
       "      <td>30.485985</td>\n",
       "      <td>20</td>\n",
       "    </tr>\n",
       "    <tr>\n",
       "      <th>Capomulin</th>\n",
       "      <td>g288</td>\n",
       "      <td>37.074024</td>\n",
       "      <td>45</td>\n",
       "    </tr>\n",
       "    <tr>\n",
       "      <th>Capomulin</th>\n",
       "      <td>g316</td>\n",
       "      <td>40.159220</td>\n",
       "      <td>45</td>\n",
       "    </tr>\n",
       "    <tr>\n",
       "      <th>...</th>\n",
       "      <td>...</td>\n",
       "      <td>...</td>\n",
       "      <td>...</td>\n",
       "    </tr>\n",
       "    <tr>\n",
       "      <th>Zoniferol</th>\n",
       "      <td>q633</td>\n",
       "      <td>70.827796</td>\n",
       "      <td>45</td>\n",
       "    </tr>\n",
       "    <tr>\n",
       "      <th>Zoniferol</th>\n",
       "      <td>s337</td>\n",
       "      <td>62.109651</td>\n",
       "      <td>45</td>\n",
       "    </tr>\n",
       "    <tr>\n",
       "      <th>Zoniferol</th>\n",
       "      <td>w140</td>\n",
       "      <td>47.717952</td>\n",
       "      <td>5</td>\n",
       "    </tr>\n",
       "    <tr>\n",
       "      <th>Zoniferol</th>\n",
       "      <td>w575</td>\n",
       "      <td>68.401286</td>\n",
       "      <td>45</td>\n",
       "    </tr>\n",
       "    <tr>\n",
       "      <th>Zoniferol</th>\n",
       "      <td>x613</td>\n",
       "      <td>48.077646</td>\n",
       "      <td>15</td>\n",
       "    </tr>\n",
       "  </tbody>\n",
       "</table>\n",
       "<p>248 rows × 3 columns</p>\n",
       "</div>"
      ],
      "text/plain": [
       "             Mouse ID  Tumor Volume (mm3)  Timepoint\n",
       "Drug Regimen                                        \n",
       "Capomulin        b128           38.982878         45\n",
       "Capomulin        b742           38.939633         45\n",
       "Capomulin        f966           30.485985         20\n",
       "Capomulin        g288           37.074024         45\n",
       "Capomulin        g316           40.159220         45\n",
       "...               ...                 ...        ...\n",
       "Zoniferol        q633           70.827796         45\n",
       "Zoniferol        s337           62.109651         45\n",
       "Zoniferol        w140           47.717952          5\n",
       "Zoniferol        w575           68.401286         45\n",
       "Zoniferol        x613           48.077646         15\n",
       "\n",
       "[248 rows x 3 columns]"
      ]
     },
     "metadata": {},
     "output_type": "display_data"
    }
   ],
   "source": [
    "# Calculate the final tumor volume of each mouse across four of the treatment regimens:  Capomulin, Ramicane, Infubinol, and Ceftamin \n",
    "\n",
    "df7 = df6.reset_index()\n",
    "\n",
    "#Create Series of Final Timepoints Indexed By Mouse ID \n",
    "endpoints = df6.groupby(level=0)[\"Timepoint\"].max()\n",
    "endpoints = endpoints.reset_index()\n",
    "\n",
    "#Create DataFrame With Pertinent Columns\n",
    "endvol = df7[['Mouse ID', 'Tumor Volume (mm3)', 'Drug Regimen','Timepoint']].copy()\n",
    "endvol = endvol.sort_index()\n",
    "endvol = endvol.reset_index(drop=True)\n",
    "\n",
    "#Merge\n",
    "finaltumor = pd.merge(endvol, endpoints)\n",
    "finaltumor = finaltumor.sort_values([\"Drug Regimen\", \"Mouse ID\"])\n",
    "finaltumor = finaltumor.set_index(\"Drug Regimen\")\n",
    "\n",
    "display(finaltumor)"
   ]
  },
  {
   "cell_type": "code",
   "execution_count": 20,
   "metadata": {
    "scrolled": false
   },
   "outputs": [
    {
     "data": {
      "text/html": [
       "<div>\n",
       "<style scoped>\n",
       "    .dataframe tbody tr th:only-of-type {\n",
       "        vertical-align: middle;\n",
       "    }\n",
       "\n",
       "    .dataframe tbody tr th {\n",
       "        vertical-align: top;\n",
       "    }\n",
       "\n",
       "    .dataframe thead th {\n",
       "        text-align: right;\n",
       "    }\n",
       "</style>\n",
       "<table border=\"1\" class=\"dataframe\">\n",
       "  <thead>\n",
       "    <tr style=\"text-align: right;\">\n",
       "      <th></th>\n",
       "      <th>Capomulin</th>\n",
       "      <th>Ceftamin</th>\n",
       "      <th>Infubinol</th>\n",
       "      <th>Ketapril</th>\n",
       "      <th>Naftisol</th>\n",
       "      <th>Placebo</th>\n",
       "      <th>Propriva</th>\n",
       "      <th>Ramicane</th>\n",
       "      <th>Stelasyn</th>\n",
       "      <th>Zoniferol</th>\n",
       "    </tr>\n",
       "  </thead>\n",
       "  <tbody>\n",
       "    <tr>\n",
       "      <th>IQR</th>\n",
       "      <td>7.78186</td>\n",
       "      <td>15.5778</td>\n",
       "      <td>11.4771</td>\n",
       "      <td>13.1522</td>\n",
       "      <td>17.4841</td>\n",
       "      <td>15.1914</td>\n",
       "      <td>13.5696</td>\n",
       "      <td>9.09854</td>\n",
       "      <td>16.6273</td>\n",
       "      <td>16.8059</td>\n",
       "    </tr>\n",
       "    <tr>\n",
       "      <th>Q0</th>\n",
       "      <td>20.7046</td>\n",
       "      <td>25.3554</td>\n",
       "      <td>36.8329</td>\n",
       "      <td>36.9919</td>\n",
       "      <td>25.8533</td>\n",
       "      <td>30.1558</td>\n",
       "      <td>28.7653</td>\n",
       "      <td>17.9127</td>\n",
       "      <td>27.5356</td>\n",
       "      <td>24.7795</td>\n",
       "    </tr>\n",
       "    <tr>\n",
       "      <th>Q25</th>\n",
       "      <td>32.3774</td>\n",
       "      <td>48.7221</td>\n",
       "      <td>54.0486</td>\n",
       "      <td>56.7201</td>\n",
       "      <td>52.0795</td>\n",
       "      <td>52.9429</td>\n",
       "      <td>49.1197</td>\n",
       "      <td>31.5605</td>\n",
       "      <td>52.4766</td>\n",
       "      <td>49.9883</td>\n",
       "    </tr>\n",
       "    <tr>\n",
       "      <th>Q75</th>\n",
       "      <td>40.1592</td>\n",
       "      <td>64.2998</td>\n",
       "      <td>65.5257</td>\n",
       "      <td>69.8723</td>\n",
       "      <td>69.5636</td>\n",
       "      <td>68.1343</td>\n",
       "      <td>62.6894</td>\n",
       "      <td>40.659</td>\n",
       "      <td>69.1039</td>\n",
       "      <td>66.7942</td>\n",
       "    </tr>\n",
       "    <tr>\n",
       "      <th>Q100</th>\n",
       "      <td>51.832</td>\n",
       "      <td>87.6665</td>\n",
       "      <td>82.7414</td>\n",
       "      <td>89.6005</td>\n",
       "      <td>95.7898</td>\n",
       "      <td>90.9214</td>\n",
       "      <td>83.0438</td>\n",
       "      <td>54.3068</td>\n",
       "      <td>94.045</td>\n",
       "      <td>92.0029</td>\n",
       "    </tr>\n",
       "    <tr>\n",
       "      <th>Outliers</th>\n",
       "      <td>[]</td>\n",
       "      <td>[]</td>\n",
       "      <td>[36.321345799999996]</td>\n",
       "      <td>[]</td>\n",
       "      <td>[]</td>\n",
       "      <td>[]</td>\n",
       "      <td>[]</td>\n",
       "      <td>[]</td>\n",
       "      <td>[]</td>\n",
       "      <td>[]</td>\n",
       "    </tr>\n",
       "  </tbody>\n",
       "</table>\n",
       "</div>"
      ],
      "text/plain": [
       "         Capomulin Ceftamin             Infubinol Ketapril Naftisol  Placebo  \\\n",
       "IQR        7.78186  15.5778               11.4771  13.1522  17.4841  15.1914   \n",
       "Q0         20.7046  25.3554               36.8329  36.9919  25.8533  30.1558   \n",
       "Q25        32.3774  48.7221               54.0486  56.7201  52.0795  52.9429   \n",
       "Q75        40.1592  64.2998               65.5257  69.8723  69.5636  68.1343   \n",
       "Q100        51.832  87.6665               82.7414  89.6005  95.7898  90.9214   \n",
       "Outliers        []       []  [36.321345799999996]       []       []       []   \n",
       "\n",
       "         Propriva Ramicane Stelasyn Zoniferol  \n",
       "IQR       13.5696  9.09854  16.6273   16.8059  \n",
       "Q0        28.7653  17.9127  27.5356   24.7795  \n",
       "Q25       49.1197  31.5605  52.4766   49.9883  \n",
       "Q75       62.6894   40.659  69.1039   66.7942  \n",
       "Q100      83.0438  54.3068   94.045   92.0029  \n",
       "Outliers       []       []       []        []  "
      ]
     },
     "metadata": {},
     "output_type": "display_data"
    }
   ],
   "source": [
    "#For each treatment regimen: analyze tumor volume for each mouse at last timepoint, calculate IQR & find potential outliers. \n",
    "#oad Numbers Into DataFrame For Box Plots\n",
    "\n",
    "drugarray.sort()\n",
    "series1 = pd.Series(data=finaltumor[\"Tumor Volume (mm3)\"])\n",
    "boxstat = pd.DataFrame(np.zeros((6, 10)), columns=drugarray, index=['IQR', 'Q0', 'Q25', 'Q75', 'Q100', 'Outliers'])\n",
    "boxdf = pd.DataFrame(np.zeros((25, 10)), columns=drugarray)\n",
    "\n",
    "\n",
    "for x in range(len(drugarray)):\n",
    "        regimen1 = drugarray[x] \n",
    "        series2 = series1[regimen1].tolist()\n",
    "        tumorvol=np.asarray(series2)\n",
    "      \n",
    "        q75 = np.percentile(tumorvol, 75)\n",
    "        q25 = np.percentile(tumorvol, 25)\n",
    "\n",
    "        iqr = q75 - q25\n",
    "        q0= q25 - (1.5 * iqr)\n",
    "        q100 = q75 + (1.5 * iqr)\n",
    "        outlierlist = []\n",
    "        \n",
    "        for z in series2: \n",
    "            if z >= q100 or z <= q0:\n",
    "                outlierlist.append(z)\n",
    "    \n",
    "        if(len(series2)<25):\n",
    "            series2.append(0)\n",
    "            \n",
    "        boxdf[regimen1]=series2\n",
    "        \n",
    "        boxstatdata = [iqr, q0, q25,q75,q100, outlierlist]\n",
    "        boxstat[regimen1]=boxstatdata\n",
    "        \n",
    "display(boxstat)\n"
   ]
  },
  {
   "cell_type": "code",
   "execution_count": 21,
   "metadata": {},
   "outputs": [
    {
     "data": {
      "image/png": "[encoded data removed]",
      "text/plain": [
       "<Figure size 864x504 with 1 Axes>"
      ]
     },
     "metadata": {
      "needs_background": "light"
     },
     "output_type": "display_data"
    }
   ],
   "source": [
    "# Generate a box plot of the final tumor volume of each mouse across regimens\n",
    "\n",
    "boxdf=boxdf.replace(0, np.nan)\n",
    "\n",
    "boxfig = plt.figure(figsize=(12, 7))\n",
    "ax2 = boxfig.add_axes([0,0,1,1])\n",
    "ax2.set_title('Distribution of Final Tumor Size (mm3) by Treatment')\n",
    "labels = drugarray\n",
    "bp = ax2.boxplot(boxdf.dropna(), patch_artist=True,labels=labels)\n",
    "ax2.set_xlabel('Drug Regimen')\n",
    "ax2.set_ylabel('Final Tumor Size (mm3)')\n",
    "\n",
    "\n",
    "plt.show()\n"
   ]
  },
  {
   "cell_type": "markdown",
   "metadata": {},
   "source": [
    "## Line and Scatter Plots"
   ]
  },
  {
   "cell_type": "code",
   "execution_count": 22,
   "metadata": {},
   "outputs": [
    {
     "data": {
      "image/png": "[encoded data removed]",
      "text/plain": [
       "<Figure size 864x504 with 1 Axes>"
      ]
     },
     "metadata": {
      "needs_background": "light"
     },
     "output_type": "display_data"
    }
   ],
   "source": [
    "# Generate a line plot of average tumor volume vs. time point for a mouse treated with Capomulin\n",
    "\n",
    "\n",
    "df8 = df7.copy()\n",
    "df8 = df7[['Mouse ID', 'Tumor Volume (mm3)', 'Drug Regimen','Timepoint']].copy()\n",
    "\n",
    "\n",
    "df8 = df8.sort_values([\"Drug Regimen\", \"Mouse ID\"])\n",
    "df8 = df8.set_index(\"Drug Regimen\")\n",
    "df9 = df8.loc['Capomulin']\n",
    "\n",
    "df9 = df9.set_index([\"Timepoint\"])\n",
    "\n",
    "capomulinseries = df9.groupby(level=0).mean()\n",
    "\n",
    "\n",
    "linep = plt.figure(figsize=(12, 7))\n",
    "plt.plot(capomulinseries)\n",
    "plt.ylabel('Avg Tumor Volume (mm3)')\n",
    "plt.xlabel('Timepoint in minutes')\n",
    "plt.title('Average Tumor Volume Over Time: Capomulin Regimen')\n",
    "\n",
    "plt.show()"
   ]
  },
  {
   "cell_type": "code",
   "execution_count": 23,
   "metadata": {
    "scrolled": true
   },
   "outputs": [
    {
     "data": {
      "image/png": "[encoded data removed]",
      "text/plain": [
       "<Figure size 864x504 with 1 Axes>"
      ]
     },
     "metadata": {
      "needs_background": "light"
     },
     "output_type": "display_data"
    },
    {
     "name": "stdout",
     "output_type": "stream",
     "text": [
      "Correlation Coefficient = 0.8947726097340629\n"
     ]
    }
   ],
   "source": [
    "# Generate a scatter plot of average tumor volume vs. mouse weight for the Capomulin regimen, perform linear regression & find correlation coefficient\n",
    "\n",
    "df10 =  df7[['Mouse ID', 'Tumor Volume (mm3)', 'Drug Regimen','Weight (g)']].copy()\n",
    "df10 = df10.set_index(\"Drug Regimen\")\n",
    "df11 = df10.loc['Capomulin']\n",
    "df11 = df11.set_index(\"Weight (g)\")\n",
    "df12 = df11.groupby(level=0).mean()\n",
    "df12 = df12.reset_index()\n",
    "\n",
    "\n",
    "lines = plt.figure(figsize=(12, 7))\n",
    "N = len(df12)\n",
    "w = df12['Weight (g)']\n",
    "v = df12['Tumor Volume (mm3)']\n",
    "plt.scatter(w, v)\n",
    "m, c = np.polyfit(w, v, 1)\n",
    "plt.plot(w, (m*w + c))\n",
    "\n",
    "\n",
    "plt.ylabel('Avg Tumor Volume (mm3)')\n",
    "plt.xlabel('Weight (g)')\n",
    "plt.title('Average Tumor Volume By Mouse Weight: Capomulin Regimen')\n",
    "\n",
    "plt.show()\n",
    "\n",
    "slope, intercept, r_value, p_value, std_err = stats.linregress(w,v)\n",
    "\n",
    "print(\"Correlation Coefficient = \" + str(slope))"
   ]
  },
  {
   "cell_type": "markdown",
   "metadata": {},
   "source": [
    "## Correlation and Regression"
   ]
  },
  {
   "cell_type": "code",
   "execution_count": null,
   "metadata": {},
   "outputs": [],
   "source": []
  },
  {
   "cell_type": "code",
   "execution_count": null,
   "metadata": {},
   "outputs": [],
   "source": []
  }
 ],
 "metadata": {
  "anaconda-cloud": {},
  "kernelspec": {
   "display_name": "Python 3",
   "language": "python",
   "name": "python3"
  },
  "language_info": {
   "codemirror_mode": {
    "name": "ipython",
    "version": 3
   },
   "file_extension": ".py",
   "mimetype": "text/x-python",
   "name": "python",
   "nbconvert_exporter": "python",
   "pygments_lexer": "ipython3",
   "version": "3.8.5"
  }
 },
 "nbformat": 4,
 "nbformat_minor": 4
}
